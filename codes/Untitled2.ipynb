{
 "cells": [
  {
   "cell_type": "code",
   "execution_count": 1,
   "id": "f2ce838e",
   "metadata": {},
   "outputs": [],
   "source": [
    "import numpy as np\n",
    "import scipy.io as sio\n",
    "import matplotlib.pyplot as plt\n",
    "%matplotlib inline"
   ]
  },
  {
   "cell_type": "code",
   "execution_count": null,
   "id": "b896953e",
   "metadata": {},
   "outputs": [],
   "source": []
  },
  {
   "cell_type": "code",
   "execution_count": 3,
   "id": "e180d204",
   "metadata": {},
   "outputs": [],
   "source": [
    "data = sio.loadmat('../../data/PaviaU.mat')\n",
    "label = sio.loadmat('../../data/PaviaU_gt.mat')"
   ]
  },
  {
   "cell_type": "code",
   "execution_count": 6,
   "id": "411ad3b4",
   "metadata": {},
   "outputs": [
    {
     "data": {
      "text/plain": [
       "(610, 340, 103)"
      ]
     },
     "execution_count": 6,
     "metadata": {},
     "output_type": "execute_result"
    }
   ],
   "source": [
    "data['paviaU'].shape"
   ]
  },
  {
   "cell_type": "code",
   "execution_count": 8,
   "id": "eba838b7",
   "metadata": {},
   "outputs": [
    {
     "data": {
      "text/plain": [
       "array([[0, 0, 0, ..., 0, 0, 0],\n",
       "       [0, 0, 0, ..., 0, 0, 0],\n",
       "       [0, 0, 0, ..., 0, 0, 0],\n",
       "       ...,\n",
       "       [2, 2, 2, ..., 0, 0, 0],\n",
       "       [2, 2, 2, ..., 0, 0, 0],\n",
       "       [2, 2, 2, ..., 0, 0, 0]], dtype=uint8)"
      ]
     },
     "execution_count": 8,
     "metadata": {},
     "output_type": "execute_result"
    }
   ],
   "source": [
    "label['paviaU_gt']"
   ]
  },
  {
   "cell_type": "code",
   "execution_count": null,
   "id": "58da80f2",
   "metadata": {},
   "outputs": [],
   "source": []
  }
 ],
 "metadata": {
  "kernelspec": {
   "display_name": "Python 3 (ipykernel)",
   "language": "python",
   "name": "python3"
  },
  "language_info": {
   "codemirror_mode": {
    "name": "ipython",
    "version": 3
   },
   "file_extension": ".py",
   "mimetype": "text/x-python",
   "name": "python",
   "nbconvert_exporter": "python",
   "pygments_lexer": "ipython3",
   "version": "3.8.15"
  }
 },
 "nbformat": 4,
 "nbformat_minor": 5
}
